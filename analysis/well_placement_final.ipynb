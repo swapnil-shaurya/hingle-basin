{
 "cells": [
  {
   "cell_type": "code",
   "execution_count": 1,
   "metadata": {},
   "outputs": [],
   "source": [
    "import numpy as np\n",
    "import pandas as pd\n",
    "from os.path import join, dirname, isfile, basename\n",
    "from os import getcwd, listdir\n",
    "import matplotlib.pyplot as plt\n",
    "%matplotlib inline"
   ]
  },
  {
   "cell_type": "code",
   "execution_count": 2,
   "metadata": {},
   "outputs": [],
   "source": [
    "import sys\n",
    "if 'jupyterthemes' in sys.modules:\n",
    "    from jupyterthemes import jtplot\n",
    "    jtplot.style()"
   ]
  },
  {
   "cell_type": "code",
   "execution_count": 3,
   "metadata": {},
   "outputs": [
    {
     "data": {
      "text/html": [
       "<div>\n",
       "<style scoped>\n",
       "    .dataframe tbody tr th:only-of-type {\n",
       "        vertical-align: middle;\n",
       "    }\n",
       "\n",
       "    .dataframe tbody tr th {\n",
       "        vertical-align: top;\n",
       "    }\n",
       "\n",
       "    .dataframe thead th {\n",
       "        text-align: right;\n",
       "    }\n",
       "</style>\n",
       "<table border=\"1\" class=\"dataframe\">\n",
       "  <thead>\n",
       "    <tr style=\"text-align: right;\">\n",
       "      <th></th>\n",
       "      <th>easting</th>\n",
       "      <th>northing</th>\n",
       "      <th>OOIP</th>\n",
       "    </tr>\n",
       "  </thead>\n",
       "  <tbody>\n",
       "    <tr>\n",
       "      <th>0</th>\n",
       "      <td>1100.0</td>\n",
       "      <td>400.000000</td>\n",
       "      <td>2.673385</td>\n",
       "    </tr>\n",
       "    <tr>\n",
       "      <th>1</th>\n",
       "      <td>1100.0</td>\n",
       "      <td>504.678170</td>\n",
       "      <td>2.673385</td>\n",
       "    </tr>\n",
       "    <tr>\n",
       "      <th>2</th>\n",
       "      <td>1100.0</td>\n",
       "      <td>609.356341</td>\n",
       "      <td>2.673385</td>\n",
       "    </tr>\n",
       "    <tr>\n",
       "      <th>3</th>\n",
       "      <td>1100.0</td>\n",
       "      <td>714.034511</td>\n",
       "      <td>2.673385</td>\n",
       "    </tr>\n",
       "    <tr>\n",
       "      <th>4</th>\n",
       "      <td>1100.0</td>\n",
       "      <td>818.712681</td>\n",
       "      <td>2.673385</td>\n",
       "    </tr>\n",
       "    <tr>\n",
       "      <th>...</th>\n",
       "      <td>...</td>\n",
       "      <td>...</td>\n",
       "      <td>...</td>\n",
       "    </tr>\n",
       "    <tr>\n",
       "      <th>889244</th>\n",
       "      <td>95300.0</td>\n",
       "      <td>98588.123747</td>\n",
       "      <td>2.118020</td>\n",
       "    </tr>\n",
       "    <tr>\n",
       "      <th>889245</th>\n",
       "      <td>95300.0</td>\n",
       "      <td>98692.801918</td>\n",
       "      <td>2.118020</td>\n",
       "    </tr>\n",
       "    <tr>\n",
       "      <th>889246</th>\n",
       "      <td>95300.0</td>\n",
       "      <td>98797.480088</td>\n",
       "      <td>2.118020</td>\n",
       "    </tr>\n",
       "    <tr>\n",
       "      <th>889247</th>\n",
       "      <td>95300.0</td>\n",
       "      <td>98902.158258</td>\n",
       "      <td>2.118020</td>\n",
       "    </tr>\n",
       "    <tr>\n",
       "      <th>889248</th>\n",
       "      <td>95300.0</td>\n",
       "      <td>99006.836428</td>\n",
       "      <td>2.118020</td>\n",
       "    </tr>\n",
       "  </tbody>\n",
       "</table>\n",
       "<p>889249 rows × 3 columns</p>\n",
       "</div>"
      ],
      "text/plain": [
       "        easting      northing      OOIP\n",
       "0        1100.0    400.000000  2.673385\n",
       "1        1100.0    504.678170  2.673385\n",
       "2        1100.0    609.356341  2.673385\n",
       "3        1100.0    714.034511  2.673385\n",
       "4        1100.0    818.712681  2.673385\n",
       "...         ...           ...       ...\n",
       "889244  95300.0  98588.123747  2.118020\n",
       "889245  95300.0  98692.801918  2.118020\n",
       "889246  95300.0  98797.480088  2.118020\n",
       "889247  95300.0  98902.158258  2.118020\n",
       "889248  95300.0  99006.836428  2.118020\n",
       "\n",
       "[889249 rows x 3 columns]"
      ]
     },
     "execution_count": 3,
     "metadata": {},
     "output_type": "execute_result"
    }
   ],
   "source": [
    "oil = pd.read_csv('ooip.csv')\n",
    "oil"
   ]
  },
  {
   "cell_type": "code",
   "execution_count": 141,
   "metadata": {},
   "outputs": [],
   "source": [
    "x = oil['easting'].to_numpy()\n",
    "y = oil['northing'].to_numpy()\n",
    "oil_in_place = oil['OOIP'].to_numpy()"
   ]
  },
  {
   "cell_type": "code",
   "execution_count": 16,
   "metadata": {},
   "outputs": [],
   "source": [
    "well_length = 5280\n",
    "ooip = oil_in_place.reshape(np.unique(x).shape[0], np.unique(y).shape[0])"
   ]
  },
  {
   "cell_type": "code",
   "execution_count": 37,
   "metadata": {},
   "outputs": [
    {
     "data": {
      "text/plain": [
       "1100.0"
      ]
     },
     "execution_count": 37,
     "metadata": {},
     "output_type": "execute_result"
    }
   ],
   "source": [
    "x[ooip.shape[0]-1]"
   ]
  },
  {
   "cell_type": "code",
   "execution_count": 148,
   "metadata": {},
   "outputs": [
    {
     "data": {
      "text/plain": [
       "1100.0"
      ]
     },
     "execution_count": 148,
     "metadata": {},
     "output_type": "execute_result"
    }
   ],
   "source": [
    "min(np.unique(x))"
   ]
  },
  {
   "cell_type": "code",
   "execution_count": 81,
   "metadata": {
    "scrolled": true
   },
   "outputs": [
    {
     "data": {
      "application/vnd.jupyter.widget-view+json": {
       "model_id": "e7d0768166bf44949b9386394462115f",
       "version_major": 2,
       "version_minor": 0
      },
      "text/plain": [
       "HBox(children=(HTML(value=''), FloatProgress(value=0.0), HTML(value='')))"
      ]
     },
     "metadata": {},
     "output_type": "display_data"
    },
    {
     "data": {
      "application/vnd.jupyter.widget-view+json": {
       "model_id": "70b4bb853df24f8b9387de2d73114191",
       "version_major": 2,
       "version_minor": 0
      },
      "text/plain": [
       "HBox(children=(HTML(value=''), FloatProgress(value=0.0, max=943.0), HTML(value='')))"
      ]
     },
     "metadata": {},
     "output_type": "display_data"
    },
    {
     "data": {
      "application/vnd.jupyter.widget-view+json": {
       "model_id": "9631ee31a2544bb1a38e9ae55118e27e",
       "version_major": 2,
       "version_minor": 0
      },
      "text/plain": [
       "HBox(children=(HTML(value=''), FloatProgress(value=0.0, max=943.0), HTML(value='')))"
      ]
     },
     "metadata": {},
     "output_type": "display_data"
    }
   ],
   "source": [
    "from tqdm.notebook import tqdm\n",
    "num_wells = 10\n",
    "best_locs = []\n",
    "best_vals = []\n",
    "northings = np.unique(y)\n",
    "eastings = np.unique(x)\n",
    "east_step = eastings[1] - eastings[0]\n",
    "iter_steps = int(well_length // east_step)\n",
    "well_bar= tqdm(total=num_wells * 10)\n",
    "north_bar = tqdm(total=northings.shape[0])\n",
    "east_bar = tqdm(total=eastings.shape[0])\n",
    "for a in range(num_wells):\n",
    "    found_val = -1\n",
    "    found_loc = (-1, -1)\n",
    "    north_bar.reset()\n",
    "    for i in range(northings.shape[0]):\n",
    "        northing = northings[i]\n",
    "        east_iter = iter(eastings)\n",
    "        east_bar.reset()\n",
    "        for easting in east_iter:\n",
    "            easting = eastings[j]\n",
    "            loc = (easting, northing)\n",
    "            if loc in best_locs:\n",
    "                next_easting = easting\n",
    "                while next_easting is not None and next_easting < easting + well_length:\n",
    "                    next_easting = next(east_iter, None)\n",
    "                    if next_easting is not None:\n",
    "                        east_bar.update(1)\n",
    "            else:\n",
    "                val = oil.loc[(oil['easting'] >= easting) & \n",
    "                               (oil['easting'] <= easting+well_length) &\n",
    "                              (oil['northing'] == northing)]['OOIP'].values.sum()\n",
    "                \n",
    "                if val > found_val:\n",
    "                    found_val = val\n",
    "                    found_loc = loc\n",
    "                east_bar.update(1)\n",
    "        north_bar.update(1)\n",
    "    \n",
    "    best_locs.append(found_loc)\n",
    "    best_vals.append(found_val)\n",
    "    well_bar.update(10)\n",
    "\n"
   ]
  },
  {
   "cell_type": "code",
   "execution_count": 82,
   "metadata": {
    "scrolled": true
   },
   "outputs": [
    {
     "data": {
      "text/plain": [
       "[(4700.0, 400.0),\n",
       " (4700.0, 504.6781703061863),\n",
       " (4700.0, 609.3563406123726),\n",
       " (4700.0, 714.0345109185588),\n",
       " (4700.0, 818.7126812247452),\n",
       " (4700.0, 923.3908515309315),\n",
       " (4700.0, 1028.0690218371178),\n",
       " (4700.0, 1132.747192143304),\n",
       " (4700.0, 1237.4253624494904),\n",
       " (4700.0, 1342.1035327556767)]"
      ]
     },
     "execution_count": 82,
     "metadata": {},
     "output_type": "execute_result"
    }
   ],
   "source": [
    "best_locs"
   ]
  },
  {
   "cell_type": "code",
   "execution_count": 111,
   "metadata": {},
   "outputs": [],
   "source": []
  },
  {
   "cell_type": "code",
   "execution_count": 138,
   "metadata": {},
   "outputs": [],
   "source": [
    "c = oil['OOIP'].to_numpy()\n",
    "c = c / (1.4 * np.amax(c))\n",
    "\n",
    "for location in best_locs:\n",
    "    indices = oil.loc[(oil['easting'] >= location[0]) & (oil['easting'] <= location[0] + well_length) &\n",
    "                (oil['northing'] == location[1])].index\n",
    "    for i in indices:\n",
    "        c[i] = 1\n",
    "    "
   ]
  },
  {
   "cell_type": "code",
   "execution_count": 143,
   "metadata": {},
   "outputs": [
    {
     "data": {
      "text/plain": [
       "<matplotlib.collections.PathCollection at 0x7f7f2385ebe0>"
      ]
     },
     "execution_count": 143,
     "metadata": {},
     "output_type": "execute_result"
    },
    {
     "data": {
      "image/png": "[encoded data removed]",
      "text/plain": [
       "<Figure size 432x288 with 1 Axes>"
      ]
     },
     "metadata": {
      "needs_background": "light"
     },
     "output_type": "display_data"
    }
   ],
   "source": [
    "plt.scatter(x, y, c=c)"
   ]
  },
  {
   "cell_type": "code",
   "execution_count": null,
   "metadata": {},
   "outputs": [],
   "source": []
  },
  {
   "cell_type": "code",
   "execution_count": 115,
   "metadata": {},
   "outputs": [
    {
     "data": {
      "text/html": [
       "<div>\n",
       "<style scoped>\n",
       "    .dataframe tbody tr th:only-of-type {\n",
       "        vertical-align: middle;\n",
       "    }\n",
       "\n",
       "    .dataframe tbody tr th {\n",
       "        vertical-align: top;\n",
       "    }\n",
       "\n",
       "    .dataframe thead th {\n",
       "        text-align: right;\n",
       "    }\n",
       "</style>\n",
       "<table border=\"1\" class=\"dataframe\">\n",
       "  <thead>\n",
       "    <tr style=\"text-align: right;\">\n",
       "      <th></th>\n",
       "      <th>easting</th>\n",
       "      <th>northing</th>\n",
       "      <th>OOIP</th>\n",
       "    </tr>\n",
       "  </thead>\n",
       "  <tbody>\n",
       "    <tr>\n",
       "      <th>33948</th>\n",
       "      <td>4700.0</td>\n",
       "      <td>400.0</td>\n",
       "      <td>2.650889</td>\n",
       "    </tr>\n",
       "  </tbody>\n",
       "</table>\n",
       "</div>"
      ],
      "text/plain": [
       "       easting  northing      OOIP\n",
       "33948   4700.0     400.0  2.650889"
      ]
     },
     "execution_count": 115,
     "metadata": {},
     "output_type": "execute_result"
    }
   ],
   "source": [
    "oil.loc[(oil['easting'] == best_locs[0][0]) & (oil['northing']==best_locs[0][1])].index"
   ]
  },
  {
   "cell_type": "code",
   "execution_count": 107,
   "metadata": {},
   "outputs": [
    {
     "data": {
      "text/plain": [
       "0          True\n",
       "1         False\n",
       "2         False\n",
       "3         False\n",
       "4         False\n",
       "          ...  \n",
       "889244    False\n",
       "889245    False\n",
       "889246    False\n",
       "889247    False\n",
       "889248    False\n",
       "Name: northing, Length: 889249, dtype: bool"
      ]
     },
     "execution_count": 107,
     "metadata": {},
     "output_type": "execute_result"
    }
   ],
   "source": [
    "oil['northing']==best_locs[0][1]"
   ]
  },
  {
   "cell_type": "code",
   "execution_count": 140,
   "metadata": {},
   "outputs": [
    {
     "data": {
      "text/plain": [
       "82993"
      ]
     },
     "execution_count": 140,
     "metadata": {},
     "output_type": "execute_result"
    }
   ],
   "source": []
  },
  {
   "cell_type": "code",
   "execution_count": null,
   "metadata": {},
   "outputs": [],
   "source": []
  }
 ],
 "metadata": {
  "kernelspec": {
   "display_name": "Python 3",
   "language": "python",
   "name": "python3"
  },
  "language_info": {
   "codemirror_mode": {
    "name": "ipython",
    "version": 3
   },
   "file_extension": ".py",
   "mimetype": "text/x-python",
   "name": "python",
   "nbconvert_exporter": "python",
   "pygments_lexer": "ipython3",
   "version": "3.7.3"
  }
 },
 "nbformat": 4,
 "nbformat_minor": 4
}
