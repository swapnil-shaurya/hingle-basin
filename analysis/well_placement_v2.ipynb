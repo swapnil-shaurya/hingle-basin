{
 "cells": [
  {
   "cell_type": "code",
   "execution_count": 1,
   "metadata": {},
   "outputs": [],
   "source": [
    "import numpy as np\n",
    "import pandas as pd\n",
    "from os.path import join, dirname, isfile, basename\n",
    "from os import getcwd, listdir\n",
    "import matplotlib.pyplot as plt\n",
    "%matplotlib inline"
   ]
  },
  {
   "cell_type": "code",
   "execution_count": 2,
   "metadata": {},
   "outputs": [],
   "source": [
    "import sys\n",
    "if 'jupyterthemes' in sys.modules:\n",
    "    from jupyterthemes import jtplot\n",
    "    jtplot.style()"
   ]
  },
  {
   "cell_type": "code",
   "execution_count": 11,
   "metadata": {},
   "outputs": [
    {
     "data": {
      "text/html": [
       "<div>\n",
       "<style scoped>\n",
       "    .dataframe tbody tr th:only-of-type {\n",
       "        vertical-align: middle;\n",
       "    }\n",
       "\n",
       "    .dataframe tbody tr th {\n",
       "        vertical-align: top;\n",
       "    }\n",
       "\n",
       "    .dataframe thead th {\n",
       "        text-align: right;\n",
       "    }\n",
       "</style>\n",
       "<table border=\"1\" class=\"dataframe\">\n",
       "  <thead>\n",
       "    <tr style=\"text-align: right;\">\n",
       "      <th></th>\n",
       "      <th>easting</th>\n",
       "      <th>northing</th>\n",
       "      <th>OOIP</th>\n",
       "    </tr>\n",
       "  </thead>\n",
       "  <tbody>\n",
       "    <tr>\n",
       "      <th>0</th>\n",
       "      <td>1100.0</td>\n",
       "      <td>400.000000</td>\n",
       "      <td>2.673385</td>\n",
       "    </tr>\n",
       "    <tr>\n",
       "      <th>1</th>\n",
       "      <td>1100.0</td>\n",
       "      <td>504.678170</td>\n",
       "      <td>2.673385</td>\n",
       "    </tr>\n",
       "    <tr>\n",
       "      <th>2</th>\n",
       "      <td>1100.0</td>\n",
       "      <td>609.356341</td>\n",
       "      <td>2.673385</td>\n",
       "    </tr>\n",
       "    <tr>\n",
       "      <th>3</th>\n",
       "      <td>1100.0</td>\n",
       "      <td>714.034511</td>\n",
       "      <td>2.673385</td>\n",
       "    </tr>\n",
       "    <tr>\n",
       "      <th>4</th>\n",
       "      <td>1100.0</td>\n",
       "      <td>818.712681</td>\n",
       "      <td>2.673385</td>\n",
       "    </tr>\n",
       "    <tr>\n",
       "      <th>...</th>\n",
       "      <td>...</td>\n",
       "      <td>...</td>\n",
       "      <td>...</td>\n",
       "    </tr>\n",
       "    <tr>\n",
       "      <th>889244</th>\n",
       "      <td>95300.0</td>\n",
       "      <td>98588.123747</td>\n",
       "      <td>2.118020</td>\n",
       "    </tr>\n",
       "    <tr>\n",
       "      <th>889245</th>\n",
       "      <td>95300.0</td>\n",
       "      <td>98692.801918</td>\n",
       "      <td>2.118020</td>\n",
       "    </tr>\n",
       "    <tr>\n",
       "      <th>889246</th>\n",
       "      <td>95300.0</td>\n",
       "      <td>98797.480088</td>\n",
       "      <td>2.118020</td>\n",
       "    </tr>\n",
       "    <tr>\n",
       "      <th>889247</th>\n",
       "      <td>95300.0</td>\n",
       "      <td>98902.158258</td>\n",
       "      <td>2.118020</td>\n",
       "    </tr>\n",
       "    <tr>\n",
       "      <th>889248</th>\n",
       "      <td>95300.0</td>\n",
       "      <td>99006.836428</td>\n",
       "      <td>2.118020</td>\n",
       "    </tr>\n",
       "  </tbody>\n",
       "</table>\n",
       "<p>889249 rows × 3 columns</p>\n",
       "</div>"
      ],
      "text/plain": [
       "        easting      northing      OOIP\n",
       "0        1100.0    400.000000  2.673385\n",
       "1        1100.0    504.678170  2.673385\n",
       "2        1100.0    609.356341  2.673385\n",
       "3        1100.0    714.034511  2.673385\n",
       "4        1100.0    818.712681  2.673385\n",
       "...         ...           ...       ...\n",
       "889244  95300.0  98588.123747  2.118020\n",
       "889245  95300.0  98692.801918  2.118020\n",
       "889246  95300.0  98797.480088  2.118020\n",
       "889247  95300.0  98902.158258  2.118020\n",
       "889248  95300.0  99006.836428  2.118020\n",
       "\n",
       "[889249 rows x 3 columns]"
      ]
     },
     "execution_count": 11,
     "metadata": {},
     "output_type": "execute_result"
    }
   ],
   "source": [
    "\n",
    "oil = pd.read_csv('ooip.csv')\n",
    "oil"
   ]
  },
  {
   "cell_type": "code",
   "execution_count": 12,
   "metadata": {},
   "outputs": [],
   "source": [
    "x = oil['easting'].to_numpy()\n",
    "y = oil['northing'].to_numpy()\n",
    "oil_in_place = oil['OOIP'].to_numpy()"
   ]
  },
  {
   "cell_type": "code",
   "execution_count": 13,
   "metadata": {},
   "outputs": [
    {
     "name": "stdout",
     "output_type": "stream",
     "text": [
      "(889249,)\n",
      "(889249,)\n"
     ]
    }
   ],
   "source": [
    "print(x.shape)\n",
    "print(y.shape)"
   ]
  },
  {
   "cell_type": "code",
   "execution_count": 27,
   "metadata": {},
   "outputs": [
    {
     "data": {
      "text/plain": [
       "(943,)"
      ]
     },
     "execution_count": 27,
     "metadata": {},
     "output_type": "execute_result"
    }
   ],
   "source": [
    "np.unique(y).shape"
   ]
  },
  {
   "cell_type": "code",
   "execution_count": 30,
   "metadata": {},
   "outputs": [],
   "source": [
    "ooip = oil_in_place.reshape(np.unique(x).shape[0], np.unique(y).shape[0])"
   ]
  },
  {
   "cell_type": "code",
   "execution_count": 66,
   "metadata": {},
   "outputs": [],
   "source": [
    "well_length = 5280 // 100\n",
    "num_elements = 10\n",
    "top_values = []\n",
    "locations = []\n",
    "for i in range(num_elements):\n",
    "    found_val = -1\n",
    "    found_loc = (0,0)\n",
    "    for r in range(ooip.shape[0]):\n",
    "        col_iter = iter(range(ooip.shape[1]))\n",
    "        for c in col_iter:\n",
    "            loc = (r,c)\n",
    "            if loc in locations:\n",
    "                for _ in range(well_length-1):\n",
    "                    next(col_iter)\n",
    "            else:\n",
    "                val = ooip[r][c:c+well_length].sum()\n",
    "                if val > found_val:\n",
    "                    found_val = val\n",
    "                    found_loc = loc\n",
    "    top_values.append(found_val)\n",
    "    locations.append(found_loc)"
   ]
  },
  {
   "cell_type": "code",
   "execution_count": 113,
   "metadata": {},
   "outputs": [
    {
     "ename": "IndexError",
     "evalue": "index 952 is out of bounds for axis 0 with size 943",
     "output_type": "error",
     "traceback": [
      "\u001b[0;31m---------------------------------------------------------------------------\u001b[0m",
      "\u001b[0;31mIndexError\u001b[0m                                Traceback (most recent call last)",
      "\u001b[0;32m<ipython-input-113-93385d18bc63>\u001b[0m in \u001b[0;36m<module>\u001b[0;34m\u001b[0m\n\u001b[1;32m      1\u001b[0m \u001b[0mtop_values\u001b[0m\u001b[0;34m\u001b[0m\u001b[0;34m\u001b[0m\u001b[0m\n\u001b[1;32m      2\u001b[0m \u001b[0;34m\u001b[0m\u001b[0m\n\u001b[0;32m----> 3\u001b[0;31m \u001b[0mooip\u001b[0m\u001b[0;34m[\u001b[0m\u001b[0;36m0\u001b[0m\u001b[0;34m]\u001b[0m\u001b[0;34m[\u001b[0m\u001b[0;36m942\u001b[0m\u001b[0;34m+\u001b[0m\u001b[0;36m10\u001b[0m\u001b[0;34m]\u001b[0m\u001b[0;34m\u001b[0m\u001b[0;34m\u001b[0m\u001b[0m\n\u001b[0m",
      "\u001b[0;31mIndexError\u001b[0m: index 952 is out of bounds for axis 0 with size 943"
     ]
    }
   ],
   "source": [
    "top_values\n"
   ]
  },
  {
   "cell_type": "code",
   "execution_count": 63,
   "metadata": {
    "scrolled": true
   },
   "outputs": [
    {
     "data": {
      "text/plain": [
       "[(538, 0),\n",
       " (538, 52),\n",
       " (606, 0),\n",
       " (606, 81),\n",
       " (606, 80),\n",
       " (606, 79),\n",
       " (551, 0),\n",
       " (606, 78),\n",
       " (606, 77),\n",
       " (606, 76)]"
      ]
     },
     "execution_count": 63,
     "metadata": {},
     "output_type": "execute_result"
    }
   ],
   "source": [
    "locations"
   ]
  },
  {
   "cell_type": "code",
   "execution_count": 90,
   "metadata": {},
   "outputs": [],
   "source": [
    "locations_1d = [ x[0] * ooip.shape[0] + x[1] for x in locations]"
   ]
  },
  {
   "cell_type": "code",
   "execution_count": 91,
   "metadata": {},
   "outputs": [],
   "source": [
    "colors = oil_in_place/ (2 * np.amax(oil_in_place))"
   ]
  },
  {
   "cell_type": "code",
   "execution_count": 92,
   "metadata": {},
   "outputs": [],
   "source": [
    "for l in locations_1d:\n",
    "    colors[l:l+well_length] = [1 for _ in range(well_length)]"
   ]
  },
  {
   "cell_type": "code",
   "execution_count": 93,
   "metadata": {},
   "outputs": [
    {
     "name": "stderr",
     "output_type": "stream",
     "text": [
      "/Users/oimtiaz/anaconda3/lib/python3.7/site-packages/ipykernel_launcher.py:4: UserWarning: Matplotlib is currently using module://ipykernel.pylab.backend_inline, which is a non-GUI backend, so cannot show the figure.\n",
      "  after removing the cwd from sys.path.\n"
     ]
    },
    {
     "data": {
      "image/png": "[encoded data removed]",
      "text/plain": [
       "<Figure size 432x288 with 1 Axes>"
      ]
     },
     "metadata": {
      "needs_background": "light"
     },
     "output_type": "display_data"
    }
   ],
   "source": [
    "fig, ax = plt.subplots()\n",
    "ax.scatter(x, y, c= colors)\n",
    "ax.set_title(\"Oil\")\n",
    "fig.show()"
   ]
  },
  {
   "cell_type": "code",
   "execution_count": 95,
   "metadata": {},
   "outputs": [],
   "source": [
    "points = []\n",
    "for location in locations:\n",
    "    start = location\n",
    "    end = (location[0], location[1] + well_length)\n",
    "    points.append((start, end))"
   ]
  },
  {
   "cell_type": "code",
   "execution_count": 111,
   "metadata": {},
   "outputs": [
    {
     "data": {
      "image/png": "[encoded data removed]",
      "text/plain": [
       "<Figure size 432x288 with 1 Axes>"
      ]
     },
     "metadata": {
      "needs_background": "light"
     },
     "output_type": "display_data"
    }
   ],
   "source": [
    "fig, ax = plt.subplots()\n",
    "ax.set_ylim(0, 1000)\n",
    "ax.set_xlim(0, 1000)\n",
    "for p in points:\n",
    "    # ROW\n",
    "    r = (p[0][0], p[1][0])\n",
    "    # COLUMN\n",
    "    c = (p[0][1], p[1][1])\n",
    "    ax.plot(c, r)"
   ]
  },
  {
   "cell_type": "code",
   "execution_count": 5,
   "metadata": {},
   "outputs": [],
   "source": [
    "well_length = 5280\n",
    "top_10 = []\n",
    "for i in range(x.shape[0]-well_length):\n",
    "    for j in range(y.shape[0]):\n",
    "        start = (i, j)\n",
    "        end = (i+well_length, j)\n",
    "        \n",
    "for i, location in enumerate(locations):\n",
    "    x = location[0]\n",
    "    y = location[1]\n",
    "    i_initial = i\n",
    "    output = oil[int(x / 1000 + y / 10)]\n",
    "    final_x = x + well_length\n",
    "    while location[0] < final_x and location[1] == y:\n",
    "        i += 1\n",
    "        if i >= len(locations): break\n",
    "        location = locations[i]\n",
    "        output += oil[int(location[0] / 1000 + y / 10)]\n",
    "    if len(top_10) < 10:\n",
    "        top_10.append((x, y, output))\n",
    "        top_10 = sorted(top_10, key = lambda x: x[2])\n",
    "    elif max([x[2] for x in top_10]) < output:\n",
    "        top_10[0] = (x, y, output)\n",
    "        top_10 = sorted(top_10, key = lambda x: x[2])"
   ]
  },
  {
   "cell_type": "code",
   "execution_count": 6,
   "metadata": {},
   "outputs": [
    {
     "name": "stdout",
     "output_type": "stream",
     "text": [
      "[(0, 0, 4.1733731657814115), (24000, 0, 4.220360250074873), (25000, 0, 4.448792554303967), (48000, 0, 4.516745238861684), (49000, 0, 4.985231765818444), (75000, 0, 5.238751166432041), (3000, 1000, 5.277443267404443), (2000, 2000, 5.795221017429936), (5000, 2000, 5.815196575087481), (50000, 20000, 6.304550052556916)]\n"
     ]
    }
   ],
   "source": [
    "print(top_10)"
   ]
  },
  {
   "cell_type": "code",
   "execution_count": 8,
   "metadata": {},
   "outputs": [
    {
     "data": {
      "text/plain": [
       "<BarContainer object of 3 artists>"
      ]
     },
     "execution_count": 8,
     "metadata": {},
     "output_type": "execute_result"
    }
   ],
   "source": [
    "lines = [[(x[0], x[1]), (x[0] + well_length, x[1])] for x in top_10]\n",
    "import matplotlib.collections as mc\n",
    "lc = mc.LineCollection(lines, colors = \"red\", linewidths=28)\n",
    "ax.add_collection(lc)"
   ]
  },
  {
   "cell_type": "code",
   "execution_count": null,
   "metadata": {},
   "outputs": [],
   "source": []
  },
  {
   "cell_type": "code",
   "execution_count": null,
   "metadata": {},
   "outputs": [],
   "source": []
  }
 ],
 "metadata": {
  "kernelspec": {
   "display_name": "Python 3",
   "language": "python",
   "name": "python3"
  },
  "language_info": {
   "codemirror_mode": {
    "name": "ipython",
    "version": 3
   },
   "file_extension": ".py",
   "mimetype": "text/x-python",
   "name": "python",
   "nbconvert_exporter": "python",
   "pygments_lexer": "ipython3",
   "version": "3.7.3"
  }
 },
 "nbformat": 4,
 "nbformat_minor": 4
}
